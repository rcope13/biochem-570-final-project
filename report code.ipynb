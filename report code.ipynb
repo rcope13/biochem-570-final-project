{
 "cells": [
  {
   "cell_type": "code",
   "execution_count": 1,
   "id": "b6641803",
   "metadata": {},
   "outputs": [],
   "source": [
    "from scipy.integrate import solve_ivp\n",
    "import matplotlib.pyplot as plt"
   ]
  },
  {
   "cell_type": "code",
   "execution_count": 2,
   "id": "76a21c19",
   "metadata": {},
   "outputs": [],
   "source": [
    "def SIIR_ODE(t, y):\n",
    "\n",
    "    S,I1,I2,R1,R2,R3 = y # unpack y\n",
    "\n",
    "    # parameters\n",
    "    N = 1\n",
    "    t1 = 5\n",
    "    t2 = 17\n",
    "    b = 0.2\n",
    "\n",
    "    # reaction rates\n",
    "    b1 = 0.3/t1\n",
    "    b2 = 1/t1 - b1\n",
    "    c1 = 1/t2\n",
    "    c2 = 0.8/t2\n",
    "    c3 = 1/t2 - c1\n",
    "    d1 = 0.001\n",
    "    # differential equations\n",
    "    dSdt = -b*S*(I1+I2) + d1*R2\n",
    "    dI1dt = b*S*(I1+I2) - (b1-b2)*I1\n",
    "    dI2dt = b2*I1 - c1*I2\n",
    "    dR1dt = b1*I1 - (c2+c3)*R1\n",
    "    dR2dt = c1*I2 + c2*R1 - d1*R2\n",
    "    dR3dt = c3*R1\n",
    "    \n",
    "    dydt = [dSdt, dI1dt, dI2dt, dR1dt, dR2dt, dR3dt] # repack dydt\n",
    "\n",
    "    return dydt\n",
    "\n",
    "\n",
    "# the time interval of the simulation\n",
    "tspan = [0,500]\n",
    "\n",
    "# set initial conditions\n",
    "y0 = [0.9996, 0.0004, 0, 0, 0, 0] # S, I1, I2, R1, R2, R3"
   ]
  },
  {
   "cell_type": "code",
   "execution_count": null,
   "id": "893b8166",
   "metadata": {},
   "outputs": [],
   "source": [
    "sol = solve_ivp(SIIR_ODE, tspan, y0)\n",
    "plt.plot(sol.t,sol.y.T)\n",
    "plt.legend(['S', 'I1', 'I2', 'R1', 'R2', 'R3'])\n",
    "plt.xlabel('Time')\n",
    "plt.ylabel('Concentration')\n",
    "plt.show()"
   ]
  },
  {
   "cell_type": "code",
   "execution_count": null,
   "id": "8cd36556-b126-41b9-9d78-9e3f31b8310d",
   "metadata": {},
   "outputs": [],
   "source": []
  }
 ],
 "metadata": {
  "kernelspec": {
   "display_name": "Python 3 (ipykernel)",
   "language": "python",
   "name": "python3"
  },
  "language_info": {
   "codemirror_mode": {
    "name": "ipython",
    "version": 3
   },
   "file_extension": ".py",
   "mimetype": "text/x-python",
   "name": "python",
   "nbconvert_exporter": "python",
   "pygments_lexer": "ipython3",
   "version": "3.8.8"
  }
 },
 "nbformat": 4,
 "nbformat_minor": 5
}
